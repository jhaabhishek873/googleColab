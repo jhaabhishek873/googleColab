{
  "nbformat": 4,
  "nbformat_minor": 0,
  "metadata": {
    "colab": {
      "provenance": [],
      "authorship_tag": "ABX9TyOyAB9ZTXPrllR+E/4t4k0u",
      "include_colab_link": true
    },
    "kernelspec": {
      "name": "python3",
      "display_name": "Python 3"
    },
    "language_info": {
      "name": "python"
    }
  },
  "cells": [
    {
      "cell_type": "markdown",
      "metadata": {
        "id": "view-in-github",
        "colab_type": "text"
      },
      "source": [
        "<a href=\"https://colab.research.google.com/github/jhaabhishek873/googleColab/blob/main/Numpy_Tutorial.ipynb\" target=\"_parent\"><img src=\"https://colab.research.google.com/assets/colab-badge.svg\" alt=\"Open In Colab\"/></a>"
      ]
    },
    {
      "cell_type": "code",
      "execution_count": null,
      "metadata": {
        "id": "MOAk2yEYQiUm"
      },
      "outputs": [],
      "source": []
    },
    {
      "cell_type": "markdown",
      "source": [
        "Numpy - Numerical Python\n",
        "Advantages of Numpy Arrays:\n",
        "  1. Allows Several Mathematical Operations\n",
        "  2. Faster Operation"
      ],
      "metadata": {
        "id": "LPH1PJGmQnqZ"
      }
    },
    {
      "cell_type": "code",
      "source": [
        "import numpy as np"
      ],
      "metadata": {
        "id": "bAvsgLhcQ2cy"
      },
      "execution_count": 1,
      "outputs": []
    },
    {
      "cell_type": "code",
      "source": [],
      "metadata": {
        "id": "lhfGSCSYQ-Lj"
      },
      "execution_count": null,
      "outputs": []
    },
    {
      "cell_type": "markdown",
      "source": [
        "List vas Numpy - Time Taken"
      ],
      "metadata": {
        "id": "SxI4Us_rRSo0"
      }
    },
    {
      "cell_type": "code",
      "source": [
        "from time import process_time"
      ],
      "metadata": {
        "id": "t9ZPNOGARV_6"
      },
      "execution_count": 2,
      "outputs": []
    },
    {
      "cell_type": "code",
      "source": [
        "python_list = [i for i in range(10000)]\n",
        "\n",
        "start_time = process_time()\n",
        "\n",
        "python_list = [i+5 for i in python_list]\n",
        "\n",
        "end_time = process_time()\n",
        "\n",
        "print(end_time - start_time)"
      ],
      "metadata": {
        "colab": {
          "base_uri": "https://localhost:8080/"
        },
        "id": "WrQ5i9q9TFhN",
        "outputId": "53717a5f-832c-4338-ba6d-7b11168e8a61"
      },
      "execution_count": 5,
      "outputs": [
        {
          "output_type": "stream",
          "name": "stdout",
          "text": [
            "0.0008918200000005427\n"
          ]
        }
      ]
    },
    {
      "cell_type": "markdown",
      "source": [
        "Now time taken by numpy"
      ],
      "metadata": {
        "id": "S23-gEqETfyK"
      }
    },
    {
      "cell_type": "code",
      "source": [
        "np_array = np.array([i for i in range(10000)])\n",
        "\n",
        "start_time = process_time()\n",
        "\n",
        "np_array +=5\n",
        "\n",
        "end_time = process_time()\n",
        "\n",
        "print(end_time - start_time)"
      ],
      "metadata": {
        "colab": {
          "base_uri": "https://localhost:8080/"
        },
        "id": "IdnzPTxjTdEM",
        "outputId": "00c066be-c261-477e-c158-214c5881e660"
      },
      "execution_count": 6,
      "outputs": [
        {
          "output_type": "stream",
          "name": "stdout",
          "text": [
            "0.0001261000000001289\n"
          ]
        }
      ]
    },
    {
      "cell_type": "code",
      "source": [],
      "metadata": {
        "id": "XifPhVHrUAo_"
      },
      "execution_count": null,
      "outputs": []
    },
    {
      "cell_type": "markdown",
      "source": [
        "Numpy Arrays"
      ],
      "metadata": {
        "id": "1oBoKTAIhk5q"
      }
    },
    {
      "cell_type": "code",
      "source": [
        "#list\n",
        "np_array = np.array([1,2,3,4,5])\n",
        "print(np_array)\n",
        "type(np_array)"
      ],
      "metadata": {
        "colab": {
          "base_uri": "https://localhost:8080/"
        },
        "id": "2W9O8YAihmkW",
        "outputId": "4febfd75-5406-4fb5-f9cf-58e41d9652b6"
      },
      "execution_count": 7,
      "outputs": [
        {
          "output_type": "stream",
          "name": "stdout",
          "text": [
            "[1 2 3 4 5]\n"
          ]
        },
        {
          "output_type": "execute_result",
          "data": {
            "text/plain": [
              "numpy.ndarray"
            ]
          },
          "metadata": {},
          "execution_count": 7
        }
      ]
    },
    {
      "cell_type": "code",
      "source": [
        "#create 1 dim array\n",
        "a = np.array([1,2,3,4])\n",
        "print(a)\n",
        "print(a.shape)"
      ],
      "metadata": {
        "colab": {
          "base_uri": "https://localhost:8080/"
        },
        "id": "OlceGfI9h5k0",
        "outputId": "f84fa973-0373-47b7-f733-db849411d44a"
      },
      "execution_count": 8,
      "outputs": [
        {
          "output_type": "stream",
          "name": "stdout",
          "text": [
            "[1 2 3 4]\n",
            "(4,)\n"
          ]
        }
      ]
    },
    {
      "cell_type": "code",
      "source": [
        "#create a 2 dim array\n",
        "b = np.array([(1,2,3,4),(5,6,7,8)])\n",
        "print(b)\n",
        "print(b.shape)"
      ],
      "metadata": {
        "colab": {
          "base_uri": "https://localhost:8080/"
        },
        "id": "oRwPuqmMiMdE",
        "outputId": "f4109995-10f5-4cbd-e276-029870c14cc9"
      },
      "execution_count": 9,
      "outputs": [
        {
          "output_type": "stream",
          "name": "stdout",
          "text": [
            "[[1 2 3 4]\n",
            " [5 6 7 8]]\n",
            "(2, 4)\n"
          ]
        }
      ]
    },
    {
      "cell_type": "code",
      "source": [
        "#change datatype\n",
        "c = np.array([(1,2,3,4),(5,6,7,8)],dtype = float)\n",
        "print(c)\n",
        "print(c.shape)"
      ],
      "metadata": {
        "colab": {
          "base_uri": "https://localhost:8080/"
        },
        "id": "L6gZE58aiY85",
        "outputId": "7c40d12f-5545-409b-9cbc-38a19e4f5a21"
      },
      "execution_count": 10,
      "outputs": [
        {
          "output_type": "stream",
          "name": "stdout",
          "text": [
            "[[1. 2. 3. 4.]\n",
            " [5. 6. 7. 8.]]\n",
            "(2, 4)\n"
          ]
        }
      ]
    },
    {
      "cell_type": "code",
      "source": [],
      "metadata": {
        "id": "nq7q8l6Giq_L"
      },
      "execution_count": null,
      "outputs": []
    },
    {
      "cell_type": "markdown",
      "source": [
        "Initial Placeholders in Numpy Arrays"
      ],
      "metadata": {
        "id": "sbIEnceGiyOv"
      }
    },
    {
      "cell_type": "code",
      "source": [
        "# create a numpy array of Zeros\n",
        "a = np.zeros((4,5))\n",
        "print(a)"
      ],
      "metadata": {
        "colab": {
          "base_uri": "https://localhost:8080/"
        },
        "id": "9mA8-yZEi17U",
        "outputId": "e2735573-842b-496a-e54b-2a935f7d8134"
      },
      "execution_count": 12,
      "outputs": [
        {
          "output_type": "stream",
          "name": "stdout",
          "text": [
            "[[0. 0. 0. 0. 0.]\n",
            " [0. 0. 0. 0. 0.]\n",
            " [0. 0. 0. 0. 0.]\n",
            " [0. 0. 0. 0. 0.]]\n"
          ]
        }
      ]
    },
    {
      "cell_type": "code",
      "source": [
        "b = np.ones((4,5))\n",
        "print(b)"
      ],
      "metadata": {
        "colab": {
          "base_uri": "https://localhost:8080/"
        },
        "id": "X55iVFsDi-k9",
        "outputId": "cd788ed6-faa6-4f00-9a99-2d758695d247"
      },
      "execution_count": 13,
      "outputs": [
        {
          "output_type": "stream",
          "name": "stdout",
          "text": [
            "[[1. 1. 1. 1. 1.]\n",
            " [1. 1. 1. 1. 1.]\n",
            " [1. 1. 1. 1. 1.]\n",
            " [1. 1. 1. 1. 1.]]\n"
          ]
        }
      ]
    },
    {
      "cell_type": "code",
      "source": [
        "c = np.full((4,4),6)\n",
        "print(c)"
      ],
      "metadata": {
        "colab": {
          "base_uri": "https://localhost:8080/"
        },
        "id": "PRVhVEP7jLQB",
        "outputId": "ab069087-d2f6-4da7-fe20-97930076d1e4"
      },
      "execution_count": 14,
      "outputs": [
        {
          "output_type": "stream",
          "name": "stdout",
          "text": [
            "[[6 6 6 6]\n",
            " [6 6 6 6]\n",
            " [6 6 6 6]\n",
            " [6 6 6 6]]\n"
          ]
        }
      ]
    },
    {
      "cell_type": "code",
      "source": [
        "d = np.eye((6))\n",
        "print(d)"
      ],
      "metadata": {
        "colab": {
          "base_uri": "https://localhost:8080/"
        },
        "id": "_vwE3xVJjXTK",
        "outputId": "705d77f4-be69-4fdf-90a1-27ad9524c6d2"
      },
      "execution_count": 15,
      "outputs": [
        {
          "output_type": "stream",
          "name": "stdout",
          "text": [
            "[[1. 0. 0. 0. 0. 0.]\n",
            " [0. 1. 0. 0. 0. 0.]\n",
            " [0. 0. 1. 0. 0. 0.]\n",
            " [0. 0. 0. 1. 0. 0.]\n",
            " [0. 0. 0. 0. 1. 0.]\n",
            " [0. 0. 0. 0. 0. 1.]]\n"
          ]
        }
      ]
    },
    {
      "cell_type": "code",
      "source": [
        "# creating random array --> by default it will gives value between 0-1\n",
        "a = np.random.random((4,5))\n",
        "print(a)"
      ],
      "metadata": {
        "colab": {
          "base_uri": "https://localhost:8080/"
        },
        "id": "gu5nQ3c1jmXj",
        "outputId": "c0fd5ffc-ef79-4ee3-ae3a-4e66ccdb73ce"
      },
      "execution_count": 16,
      "outputs": [
        {
          "output_type": "stream",
          "name": "stdout",
          "text": [
            "[[0.7624496  0.4099496  0.60019223 0.26580887 0.57955071]\n",
            " [0.67105671 0.91248958 0.46630375 0.26347617 0.86124685]\n",
            " [0.7974088  0.77873067 0.32677316 0.61711933 0.5364452 ]\n",
            " [0.77382003 0.56430829 0.14493912 0.48180627 0.75227348]]\n"
          ]
        }
      ]
    },
    {
      "cell_type": "code",
      "source": [
        "b = np.random.randint(10,45,(5,6))\n",
        "print(b)"
      ],
      "metadata": {
        "colab": {
          "base_uri": "https://localhost:8080/"
        },
        "id": "UhwzKUZqj6-O",
        "outputId": "0156fd0f-039c-45d3-bbcb-a1f1a971df96"
      },
      "execution_count": 17,
      "outputs": [
        {
          "output_type": "stream",
          "name": "stdout",
          "text": [
            "[[23 30 38 28 12 44]\n",
            " [25 34 37 24 43 22]\n",
            " [32 38 33 12 19 40]\n",
            " [41 14 44 24 22 26]\n",
            " [11 31 31 17 38 18]]\n"
          ]
        }
      ]
    },
    {
      "cell_type": "code",
      "source": [
        "# Array of evenly sapced values --> specifying the number of values required\n",
        "d = np.linspace(10,30,6)\n",
        "print(d)"
      ],
      "metadata": {
        "colab": {
          "base_uri": "https://localhost:8080/"
        },
        "id": "4EM14BsMkQAj",
        "outputId": "b008f958-50d6-4247-a0f3-4c1567a4a4eb"
      },
      "execution_count": 19,
      "outputs": [
        {
          "output_type": "stream",
          "name": "stdout",
          "text": [
            "[10. 14. 18. 22. 26. 30.]\n"
          ]
        }
      ]
    },
    {
      "cell_type": "code",
      "source": [
        "# array of evenly spaced values --> specifying the step\n",
        "e = np.arange(10,30,3)\n",
        "print(e)"
      ],
      "metadata": {
        "colab": {
          "base_uri": "https://localhost:8080/"
        },
        "id": "9saHLt2zkgA8",
        "outputId": "cd52ef75-8631-406f-a3e3-71cd7da762d7"
      },
      "execution_count": 22,
      "outputs": [
        {
          "output_type": "stream",
          "name": "stdout",
          "text": [
            "[10 13 16 19 22 25 28]\n"
          ]
        }
      ]
    },
    {
      "cell_type": "code",
      "source": [
        "# converting a list into numpy array\n",
        "list2 = [10,20,30,40,50]\n",
        "np_array = np.asarray(list2)\n",
        "print(np_array)\n",
        "type(np_array)"
      ],
      "metadata": {
        "colab": {
          "base_uri": "https://localhost:8080/"
        },
        "id": "E-DQldqZk7A5",
        "outputId": "aa1c03c3-ea50-4e68-d0b6-cfc6a70e29ce"
      },
      "execution_count": 24,
      "outputs": [
        {
          "output_type": "stream",
          "name": "stdout",
          "text": [
            "[10 20 30 40 50]\n"
          ]
        },
        {
          "output_type": "execute_result",
          "data": {
            "text/plain": [
              "numpy.ndarray"
            ]
          },
          "metadata": {},
          "execution_count": 24
        }
      ]
    },
    {
      "cell_type": "code",
      "source": [],
      "metadata": {
        "id": "DXmw1N8XlXmG"
      },
      "execution_count": null,
      "outputs": []
    },
    {
      "cell_type": "markdown",
      "source": [
        "Analysing a Numpy Array"
      ],
      "metadata": {
        "id": "d0nWDCFKlru6"
      }
    },
    {
      "cell_type": "code",
      "source": [
        "c = np.random.randint(10,90,(5,5))\n",
        "print(c)"
      ],
      "metadata": {
        "colab": {
          "base_uri": "https://localhost:8080/"
        },
        "id": "MU4IIIFZlu8q",
        "outputId": "60aefb48-d6f1-464c-a658-0a7a2c47a48f"
      },
      "execution_count": 25,
      "outputs": [
        {
          "output_type": "stream",
          "name": "stdout",
          "text": [
            "[[21 66 16 15 56]\n",
            " [83 56 16 73 20]\n",
            " [63 34 64 27 15]\n",
            " [39 77 53 57 89]\n",
            " [21 14 48 14 37]]\n"
          ]
        }
      ]
    },
    {
      "cell_type": "code",
      "source": [
        "print(c.shape)"
      ],
      "metadata": {
        "colab": {
          "base_uri": "https://localhost:8080/"
        },
        "id": "J-PGtPqal2Or",
        "outputId": "0d2e9557-81ce-4290-8ec4-84f8abc0e52f"
      },
      "execution_count": 26,
      "outputs": [
        {
          "output_type": "stream",
          "name": "stdout",
          "text": [
            "(5, 5)\n"
          ]
        }
      ]
    },
    {
      "cell_type": "code",
      "source": [
        "print(c.ndim)"
      ],
      "metadata": {
        "colab": {
          "base_uri": "https://localhost:8080/"
        },
        "id": "7DrOnOegl52U",
        "outputId": "c3bd6d3c-53bd-47e3-8369-382bff47d52e"
      },
      "execution_count": 27,
      "outputs": [
        {
          "output_type": "stream",
          "name": "stdout",
          "text": [
            "2\n"
          ]
        }
      ]
    },
    {
      "cell_type": "code",
      "source": [
        "print(c.size)"
      ],
      "metadata": {
        "colab": {
          "base_uri": "https://localhost:8080/"
        },
        "id": "rENgrIFKl9JH",
        "outputId": "3ea17659-0b2d-431c-aae6-fd916e30580b"
      },
      "execution_count": 28,
      "outputs": [
        {
          "output_type": "stream",
          "name": "stdout",
          "text": [
            "25\n"
          ]
        }
      ]
    },
    {
      "cell_type": "code",
      "source": [
        "print(c.dtype)"
      ],
      "metadata": {
        "colab": {
          "base_uri": "https://localhost:8080/"
        },
        "id": "ZRNIdkWLmCN5",
        "outputId": "87334795-b5fa-44a7-af0c-11246b3532a5"
      },
      "execution_count": 29,
      "outputs": [
        {
          "output_type": "stream",
          "name": "stdout",
          "text": [
            "int64\n"
          ]
        }
      ]
    },
    {
      "cell_type": "markdown",
      "source": [
        "Mathematical operations on a Np array"
      ],
      "metadata": {
        "id": "n5LTpeQ2mLyP"
      }
    },
    {
      "cell_type": "code",
      "source": [
        "list1 = [1,2,3,4,5]\n",
        "list2 = [7,8,9,10,6]\n",
        "\n",
        "print(list1 + list2)"
      ],
      "metadata": {
        "colab": {
          "base_uri": "https://localhost:8080/"
        },
        "id": "DArg1mWnmH2X",
        "outputId": "af19ae84-44d0-4dc7-d2b9-c6ca6112aab7"
      },
      "execution_count": 30,
      "outputs": [
        {
          "output_type": "stream",
          "name": "stdout",
          "text": [
            "[1, 2, 3, 4, 5, 7, 8, 9, 10, 6]\n"
          ]
        }
      ]
    },
    {
      "cell_type": "code",
      "source": [
        "a = np.random.randint(0,10,(3,3))\n",
        "b = np.random.randint(10,20,(3,3))\n",
        "print(a)\n",
        "print(b)"
      ],
      "metadata": {
        "colab": {
          "base_uri": "https://localhost:8080/"
        },
        "id": "RN25vpICmlhl",
        "outputId": "e45f8250-be73-42ef-cec7-d64c773e7a13"
      },
      "execution_count": 31,
      "outputs": [
        {
          "output_type": "stream",
          "name": "stdout",
          "text": [
            "[[7 7 4]\n",
            " [8 7 1]\n",
            " [6 9 9]]\n",
            "[[13 17 10]\n",
            " [13 19 15]\n",
            " [10 16 15]]\n"
          ]
        }
      ]
    },
    {
      "cell_type": "code",
      "source": [
        "print(a+b)"
      ],
      "metadata": {
        "colab": {
          "base_uri": "https://localhost:8080/"
        },
        "id": "SJ4SakVym08I",
        "outputId": "d04c530a-a32a-48f5-d50f-fe75f3d73d52"
      },
      "execution_count": 32,
      "outputs": [
        {
          "output_type": "stream",
          "name": "stdout",
          "text": [
            "[[20 24 14]\n",
            " [21 26 16]\n",
            " [16 25 24]]\n"
          ]
        }
      ]
    },
    {
      "cell_type": "code",
      "source": [
        "print(a+b)\n",
        "print(a-b)\n",
        "print(a*b)\n",
        "print(a/b)"
      ],
      "metadata": {
        "colab": {
          "base_uri": "https://localhost:8080/"
        },
        "id": "vc6hzZlAm4jd",
        "outputId": "ef7be083-0564-4ef0-b6fa-2fe07cb3e1ee"
      },
      "execution_count": 33,
      "outputs": [
        {
          "output_type": "stream",
          "name": "stdout",
          "text": [
            "[[20 24 14]\n",
            " [21 26 16]\n",
            " [16 25 24]]\n",
            "[[ -6 -10  -6]\n",
            " [ -5 -12 -14]\n",
            " [ -4  -7  -6]]\n",
            "[[ 91 119  40]\n",
            " [104 133  15]\n",
            " [ 60 144 135]]\n",
            "[[0.53846154 0.41176471 0.4       ]\n",
            " [0.61538462 0.36842105 0.06666667]\n",
            " [0.6        0.5625     0.6       ]]\n"
          ]
        }
      ]
    },
    {
      "cell_type": "code",
      "source": [
        "print(np.add(a,b))\n",
        "print(np.subtract(a,b))\n",
        "print(np.multiply(a,b))\n",
        "print(np.divide(a,b))"
      ],
      "metadata": {
        "colab": {
          "base_uri": "https://localhost:8080/"
        },
        "id": "LPP6iUhFnAnE",
        "outputId": "562f8f6e-9e76-409e-bd3d-77b10c30ba5e"
      },
      "execution_count": 34,
      "outputs": [
        {
          "output_type": "stream",
          "name": "stdout",
          "text": [
            "[[20 24 14]\n",
            " [21 26 16]\n",
            " [16 25 24]]\n",
            "[[ -6 -10  -6]\n",
            " [ -5 -12 -14]\n",
            " [ -4  -7  -6]]\n",
            "[[ 91 119  40]\n",
            " [104 133  15]\n",
            " [ 60 144 135]]\n",
            "[[0.53846154 0.41176471 0.4       ]\n",
            " [0.61538462 0.36842105 0.06666667]\n",
            " [0.6        0.5625     0.6       ]]\n"
          ]
        }
      ]
    },
    {
      "cell_type": "code",
      "source": [],
      "metadata": {
        "id": "gplIifkbnTts"
      },
      "execution_count": null,
      "outputs": []
    },
    {
      "cell_type": "markdown",
      "source": [
        "Array Manipulation using numpy"
      ],
      "metadata": {
        "id": "A5nZYEdwner3"
      }
    },
    {
      "cell_type": "code",
      "source": [
        "array = np.random.randint(0,10,(2,3))\n",
        "print(array)\n",
        "print(array.shape)"
      ],
      "metadata": {
        "colab": {
          "base_uri": "https://localhost:8080/"
        },
        "id": "dvQSs6Ubnhor",
        "outputId": "03b6d2e3-24cc-47a3-b629-45bad18127a7"
      },
      "execution_count": 35,
      "outputs": [
        {
          "output_type": "stream",
          "name": "stdout",
          "text": [
            "[[2 3 4]\n",
            " [2 9 8]]\n",
            "(2, 3)\n"
          ]
        }
      ]
    },
    {
      "cell_type": "code",
      "source": [
        "#transpose\n",
        "trans = np.transpose(array)\n",
        "print(trans)\n",
        "print(trans.shape)"
      ],
      "metadata": {
        "colab": {
          "base_uri": "https://localhost:8080/"
        },
        "id": "4RuVBGxqnuQn",
        "outputId": "f117fd76-012e-4ade-81eb-5ece389b5345"
      },
      "execution_count": 36,
      "outputs": [
        {
          "output_type": "stream",
          "name": "stdout",
          "text": [
            "[[2 2]\n",
            " [3 9]\n",
            " [4 8]]\n",
            "(3, 2)\n"
          ]
        }
      ]
    },
    {
      "cell_type": "code",
      "source": [
        "#reshaping\n",
        "b = array.reshape(3,2)\n",
        "print(b)\n",
        "print(b.shape)"
      ],
      "metadata": {
        "colab": {
          "base_uri": "https://localhost:8080/"
        },
        "id": "CAG2E0ZHn3pH",
        "outputId": "dfdafd59-34e5-42ed-fb6d-7d0d48dcf91b"
      },
      "execution_count": 37,
      "outputs": [
        {
          "output_type": "stream",
          "name": "stdout",
          "text": [
            "[[2 3]\n",
            " [4 2]\n",
            " [9 8]]\n",
            "(3, 2)\n"
          ]
        }
      ]
    },
    {
      "cell_type": "code",
      "source": [],
      "metadata": {
        "id": "K4Zk1muKoUDk"
      },
      "execution_count": null,
      "outputs": []
    }
  ]
}